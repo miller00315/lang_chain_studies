{
 "cells": [
  {
   "cell_type": "markdown",
   "id": "03a5c00c",
   "metadata": {},
   "source": [
    "## In this Notebook, we will create a basic Q&A chain and Agent over a SQL database"
   ]
  },
  {
   "cell_type": "markdown",
   "id": "d06633c3",
   "metadata": {},
   "source": [
    "### Architecture\n",
    "\n",
    "At a high-level, the steps of any SQL chain and agent are:\n",
    "\n",
    "- `Convert question to SQL query using the LLM Model.`\n",
    "- `Execute the SQL query.`\n",
    "- `getting the Model to respond to user input using the query results.`"
   ]
  },
  {
   "cell_type": "code",
   "execution_count": 1,
   "id": "5ddeeaf6",
   "metadata": {},
   "outputs": [],
   "source": [
    "from langchain.utilities import SQLDatabase\n",
    "from langchain.chat_models import ChatOpenAI\n",
    "from langchain.chains import create_sql_query_chain\n",
    "from langchain_openai import ChatOpenAI\n"
   ]
  },
  {
   "cell_type": "code",
   "execution_count": 2,
   "id": "203dcbe2",
   "metadata": {},
   "outputs": [],
   "source": [
    "llm = ChatOpenAI(temperature=0)"
   ]
  },
  {
   "cell_type": "code",
   "execution_count": 3,
   "id": "a5ac620a",
   "metadata": {},
   "outputs": [],
   "source": [
    "host = '0.0.0.0'\n",
    "port = '5432'\n",
    "username = 'odin'\n",
    "password = 'odin'\n",
    "db_name = 'analytics'\n",
    "postgres_connection = f\"postgresql://{username}:{password}@{host}:{port}/{db_name}\"\n",
    "\n",
    "db = SQLDatabase.from_uri(postgres_connection, sample_rows_in_table_info=2)\n",
    "chain = create_sql_query_chain(llm, db)"
   ]
  },
  {
   "cell_type": "code",
   "execution_count": 4,
   "id": "8fb4c912",
   "metadata": {},
   "outputs": [
    {
     "name": "stdout",
     "output_type": "stream",
     "text": [
      "postgresql\n",
      "['customer', 'sale']\n"
     ]
    },
    {
     "data": {
      "text/plain": [
       "'[(1000,)]'"
      ]
     },
     "execution_count": 4,
     "metadata": {},
     "output_type": "execute_result"
    }
   ],
   "source": [
    "print(db.dialect)\n",
    "print(db.get_usable_table_names())\n",
    "db.run(\"SELECT count(*) FROM customer LIMIT 10;\")"
   ]
  },
  {
   "cell_type": "code",
   "execution_count": 5,
   "id": "fb6515e1",
   "metadata": {},
   "outputs": [
    {
     "data": {
      "text/plain": [
       "'SELECT COUNT(*) AS total_employees FROM customer;'"
      ]
     },
     "execution_count": 5,
     "metadata": {},
     "output_type": "execute_result"
    }
   ],
   "source": [
    "response = chain.invoke({\"question\": \"How many employees are there\"})\n",
    "response"
   ]
  },
  {
   "cell_type": "code",
   "execution_count": 6,
   "id": "1d66e095",
   "metadata": {},
   "outputs": [
    {
     "data": {
      "text/plain": [
       "'[(1000,)]'"
      ]
     },
     "execution_count": 6,
     "metadata": {},
     "output_type": "execute_result"
    }
   ],
   "source": [
    "db.run(response)"
   ]
  },
  {
   "cell_type": "code",
   "execution_count": 7,
   "id": "b3d18b40",
   "metadata": {},
   "outputs": [
    {
     "name": "stdout",
     "output_type": "stream",
     "text": [
      "SELECT COUNT(*) \n",
      "FROM customer \n",
      "WHERE city = 'Bronx' \n",
      "LIMIT 5;\n",
      "[(2,)]\n"
     ]
    }
   ],
   "source": [
    "response = chain.invoke({\"question\": \"How many customers are from Bronx\"})\n",
    "print(response)\n",
    "print(db.run(response))"
   ]
  },
  {
   "cell_type": "code",
   "execution_count": 8,
   "id": "13a5754c",
   "metadata": {},
   "outputs": [
    {
     "name": "stdout",
     "output_type": "stream",
     "text": [
      "SELECT \"state_\", COUNT(*) AS state_count\n",
      "FROM customer\n",
      "GROUP BY \"state_\"\n",
      "ORDER BY state_count DESC\n",
      "LIMIT 1;\n",
      "[('CA', 79)]\n"
     ]
    }
   ],
   "source": [
    "response = chain.invoke({\"question\": \"Which state are customers most from?\"})\n",
    "print(response)\n",
    "print(db.run(response))"
   ]
  },
  {
   "cell_type": "code",
   "execution_count": 14,
   "id": "c293f9d4",
   "metadata": {},
   "outputs": [
    {
     "name": "stdout",
     "output_type": "stream",
     "text": [
      "SELECT c.customerid, c.firstname, c.lastname, s.shipping\n",
      "FROM customer c\n",
      "JOIN sale s ON c.customerid = s.customerid\n",
      "ORDER BY s.shipping DESC\n",
      "LIMIT 5;\n"
     ]
    }
   ],
   "source": [
    "response = chain.invoke({\"question\": \"Give me the top 5 customers who paid the highest shipping charges\"})\n",
    "print(response)\n",
    "\n",
    "res = db.run(response)"
   ]
  },
  {
   "cell_type": "code",
   "execution_count": 19,
   "id": "a1fc6919",
   "metadata": {},
   "outputs": [],
   "source": [
    "class Payment:\n",
    "    id: int\n",
    "    name: str\n",
    "    surname: str\n",
    "    value: float\n",
    "\n",
    "    def __init__(\n",
    "            self,\n",
    "            id: int,\n",
    "            name: str,\n",
    "            surname: str,\n",
    "            value: float) -> None:\n",
    "        self.id = id\n",
    "        self.name = name\n",
    "        self.surname = surname\n",
    "        self.value = value\n",
    "\n",
    "    @staticmethod\n",
    "    def from_tuple(data: tuple):\n",
    "        return Payment(\n",
    "            id = data[0],\n",
    "            name = data[1],\n",
    "            surname = data[2],\n",
    "            value = data[3],\n",
    "        )\n",
    "    \n",
    "    def __str__(self) -> str:\n",
    "        return f\"\"\"\n",
    "            id: {self.id}\n",
    "            name: {self.name}\n",
    "            surname: {self.surname}\n",
    "            value: {self.value}\n",
    "        \"\"\"\n",
    "    \n",
    "    def to_dict(self) -> dict:\n",
    "        return {\n",
    "            'id': self.id,\n",
    "            'name': self.name,\n",
    "            'surname': self.surname,\n",
    "            'value': self.value\n",
    "        }\n",
    "    "
   ]
  },
  {
   "cell_type": "code",
   "execution_count": 21,
   "id": "e9941ff6",
   "metadata": {},
   "outputs": [
    {
     "name": "stdout",
     "output_type": "stream",
     "text": [
      "\n",
      "            id: 1096\n",
      "            name: Meliha\n",
      "            surname: Handzic\n",
      "            value: 59.37\n",
      "        \n",
      "\n",
      "            id: 1950\n",
      "            name: Jack\n",
      "            surname: Freund\n",
      "            value: 54.45\n",
      "        \n",
      "\n",
      "            id: 724\n",
      "            name: Epaminondas\n",
      "            surname: Kapetanios\n",
      "            value: 54.41\n",
      "        \n",
      "\n",
      "            id: 3979\n",
      "            name: Glen\n",
      "            surname: Quintana\n",
      "            value: 54.39\n",
      "        \n",
      "\n",
      "            id: 1385\n",
      "            name: Peter\n",
      "            surname: Pille\n",
      "            value: 52.88\n",
      "        \n"
     ]
    }
   ],
   "source": [
    "import ast\n",
    "\n",
    "payments = []\n",
    "\n",
    "for item in ast.literal_eval(res):\n",
    "    payments.append(Payment.from_tuple(data=item))\n",
    "\n",
    "    print(payments[-1])"
   ]
  },
  {
   "cell_type": "code",
   "execution_count": 23,
   "id": "4fe6d1da",
   "metadata": {},
   "outputs": [
    {
     "name": "stdout",
     "output_type": "stream",
     "text": [
      "     id         name     surname  value\n",
      "0  1096       Meliha     Handzic  59.37\n",
      "1  1950         Jack      Freund  54.45\n",
      "2   724  Epaminondas  Kapetanios  54.41\n",
      "3  3979         Glen    Quintana  54.39\n",
      "4  1385        Peter       Pille  52.88\n"
     ]
    }
   ],
   "source": [
    "import pandas as pd\n",
    "\n",
    "users_dicts = [item.to_dict() for item in payments]\n",
    "\n",
    "df = pd.DataFrame(users_dicts)\n",
    "\n",
    "print(df)"
   ]
  },
  {
   "cell_type": "code",
   "execution_count": 56,
   "id": "6cae0326",
   "metadata": {},
   "outputs": [
    {
     "data": {
      "image/png": "[encoded data removed]",
      "text/plain": [
       "<Figure size 1000x600 with 1 Axes>"
      ]
     },
     "metadata": {},
     "output_type": "display_data"
    }
   ],
   "source": [
    "import matplotlib.pyplot as plt \n",
    "\n",
    "# Extracting 'name' and 'value' columns\n",
    "names = df['name']\n",
    "values = df['value']\n",
    "\n",
    "# Plotting the data\n",
    "plt.figure(figsize=(10, 6))\n",
    "plt.bar(names, values, color='skyblue')\n",
    "plt.xlabel('Names')\n",
    "plt.ylabel('Value')\n",
    "plt.title('Values by Name')\n",
    "plt.xticks(rotation=45)\n",
    "plt.tight_layout()\n",
    "plt.show()\n"
   ]
  }
 ],
 "metadata": {
  "kernelspec": {
   "display_name": "Python 3 (ipykernel)",
   "language": "python",
   "name": "python3"
  },
  "language_info": {
   "codemirror_mode": {
    "name": "ipython",
    "version": 3
   },
   "file_extension": ".py",
   "mimetype": "text/x-python",
   "name": "python",
   "nbconvert_exporter": "python",
   "pygments_lexer": "ipython3",
   "version": "3.10.12"
  }
 },
 "nbformat": 4,
 "nbformat_minor": 5
}
