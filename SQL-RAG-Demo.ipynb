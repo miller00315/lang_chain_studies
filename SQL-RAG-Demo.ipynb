{
 "cells": [
  {
   "cell_type": "markdown",
   "id": "03a5c00c",
   "metadata": {},
   "source": [
    "## In this Notebook, we will create a basic Q&A chain and Agent over a SQL database"
   ]
  },
  {
   "cell_type": "markdown",
   "id": "d06633c3",
   "metadata": {},
   "source": [
    "### Architecture\n",
    "\n",
    "At a high-level, the steps of any SQL chain and agent are:\n",
    "\n",
    "- `Convert question to SQL query using the LLM Model.`\n",
    "- `Execute the SQL query.`\n",
    "- `getting the Model to respond to user input using the query results.`"
   ]
  },
  {
   "cell_type": "code",
   "execution_count": 6,
   "id": "5ddeeaf6",
   "metadata": {},
   "outputs": [],
   "source": [
    "from langchain.utilities import SQLDatabase\n",
    "from langchain.chat_models import ChatOpenAI\n",
    "from langchain.chains import create_sql_query_chain\n",
    "from langchain_openai import ChatOpenAI\n",
    "from dotenv import load_dotenv"
   ]
  },
  {
   "cell_type": "code",
   "execution_count": 7,
   "id": "b30624fa",
   "metadata": {},
   "outputs": [
    {
     "data": {
      "text/plain": [
       "True"
      ]
     },
     "execution_count": 7,
     "metadata": {},
     "output_type": "execute_result"
    }
   ],
   "source": [
    "load_dotenv()"
   ]
  },
  {
   "cell_type": "code",
   "execution_count": 8,
   "id": "203dcbe2",
   "metadata": {},
   "outputs": [],
   "source": [
    "llm = ChatOpenAI(temperature=0)"
   ]
  },
  {
   "cell_type": "code",
   "execution_count": 9,
   "id": "a5ac620a",
   "metadata": {},
   "outputs": [],
   "source": [
    "host = '0.0.0.0'\n",
    "port = '5432'\n",
    "username = 'odin'\n",
    "password = 'odin'\n",
    "db_name = 'analytics'\n",
    "postgres_connection = f\"postgresql://{username}:{password}@{host}:{port}/{db_name}\"\n",
    "\n",
    "db = SQLDatabase.from_uri(postgres_connection, sample_rows_in_table_info=2)\n",
    "chain = create_sql_query_chain(llm, db)"
   ]
  },
  {
   "cell_type": "code",
   "execution_count": 5,
   "id": "8fb4c912",
   "metadata": {},
   "outputs": [
    {
     "name": "stdout",
     "output_type": "stream",
     "text": [
      "mysql\n",
      "['customer', 'employee', 'inventoryitem', 'itemsize', 'manufacturer', 'product', 'purchase', 'purchaseitem', 'sale', 'saleitem', 'your_table_name']\n"
     ]
    },
    {
     "data": {
      "text/plain": [
       "'[(4417,)]'"
      ]
     },
     "execution_count": 5,
     "metadata": {},
     "output_type": "execute_result"
    }
   ],
   "source": [
    "print(db.dialect)\n",
    "print(db.get_usable_table_names())\n",
    "db.run(\"SELECT count(*) FROM customer LIMIT 10;\")"
   ]
  },
  {
   "cell_type": "code",
   "execution_count": 10,
   "id": "fb6515e1",
   "metadata": {},
   "outputs": [
    {
     "data": {
      "text/plain": [
       "'SELECT COUNT(*) AS total_employees FROM customer;'"
      ]
     },
     "execution_count": 10,
     "metadata": {},
     "output_type": "execute_result"
    }
   ],
   "source": [
    "response = chain.invoke({\"question\": \"How many employees are there\"})\n",
    "response"
   ]
  },
  {
   "cell_type": "code",
   "execution_count": 11,
   "id": "1d66e095",
   "metadata": {},
   "outputs": [
    {
     "data": {
      "text/plain": [
       "'[(1000,)]'"
      ]
     },
     "execution_count": 11,
     "metadata": {},
     "output_type": "execute_result"
    }
   ],
   "source": [
    "db.run(response)"
   ]
  },
  {
   "cell_type": "code",
   "execution_count": 12,
   "id": "b3d18b40",
   "metadata": {},
   "outputs": [
    {
     "name": "stdout",
     "output_type": "stream",
     "text": [
      "SELECT COUNT(*) \n",
      "FROM customer \n",
      "WHERE city = 'Bronx'\n",
      "LIMIT 5;\n",
      "[(2,)]\n"
     ]
    }
   ],
   "source": [
    "response = chain.invoke({\"question\": \"How many customers are from Bronx\"})\n",
    "print(response)\n",
    "print(db.run(response))"
   ]
  },
  {
   "cell_type": "code",
   "execution_count": 13,
   "id": "13a5754c",
   "metadata": {},
   "outputs": [
    {
     "name": "stdout",
     "output_type": "stream",
     "text": [
      "SELECT \"state_\", COUNT(*) as state_count\n",
      "FROM customer\n",
      "GROUP BY \"state_\"\n",
      "ORDER BY state_count DESC\n",
      "LIMIT 1;\n",
      "[('CA', 79)]\n"
     ]
    }
   ],
   "source": [
    "response = chain.invoke({\"question\": \"Which state are customers most from?\"})\n",
    "print(response)\n",
    "print(db.run(response))"
   ]
  },
  {
   "cell_type": "code",
   "execution_count": 15,
   "id": "c293f9d4",
   "metadata": {},
   "outputs": [
    {
     "name": "stdout",
     "output_type": "stream",
     "text": [
      "SELECT c.customerid, c.firstname, c.lastname, s.shipping\n",
      "FROM customer c\n",
      "JOIN sale s ON c.customerid = s.customerid\n",
      "ORDER BY s.shipping DESC\n",
      "LIMIT 5;\n",
      "[(1096, 'Meliha', 'Handzic', 59.37), (1950, 'Jack', 'Freund', 54.45), (724, 'Epaminondas', 'Kapetanios', 54.41), (3979, 'Glen', 'Quintana', 54.39), (1385, 'Peter', 'Pille', 52.88)]\n"
     ]
    }
   ],
   "source": [
    "response = chain.invoke({\"question\": \"Give me the top 5 customers who paid the highest shipping charges\"})\n",
    "print(response)\n",
    "print(db.run(response))"
   ]
  }
 ],
 "metadata": {
  "kernelspec": {
   "display_name": "Python 3 (ipykernel)",
   "language": "python",
   "name": "python3"
  },
  "language_info": {
   "codemirror_mode": {
    "name": "ipython",
    "version": 3
   },
   "file_extension": ".py",
   "mimetype": "text/x-python",
   "name": "python",
   "nbconvert_exporter": "python",
   "pygments_lexer": "ipython3",
   "version": "3.10.12"
  }
 },
 "nbformat": 4,
 "nbformat_minor": 5
}
