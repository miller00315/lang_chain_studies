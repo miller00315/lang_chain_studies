{
 "cells": [
  {
   "cell_type": "markdown",
   "id": "4da4d5ac",
   "metadata": {},
   "source": [
    "## Agents and Tools"
   ]
  },
  {
   "cell_type": "markdown",
   "id": "1caae071",
   "metadata": {},
   "source": [
    "### Agents: Agents enable LLMs to work with tools that perform various tasks\n",
    "To use agents, we require three things:\n",
    "- A base LLM,\n",
    "- A tool that we will be interacting with,\n",
    "- An agent to control the interaction."
   ]
  },
  {
   "cell_type": "markdown",
   "id": "4323f74b",
   "metadata": {},
   "source": [
    "### In the following example, we will use the Math tool to perform some simple math operations"
   ]
  },
  {
   "cell_type": "code",
   "execution_count": 1,
   "id": "a3f6355f",
   "metadata": {},
   "outputs": [
    {
     "data": {
      "text/plain": [
       "True"
      ]
     },
     "execution_count": 1,
     "metadata": {},
     "output_type": "execute_result"
    }
   ],
   "source": [
    "from dotenv import load_dotenv\n",
    "from langchain_openai import OpenAI\n",
    "load_dotenv()"
   ]
  },
  {
   "cell_type": "code",
   "execution_count": 2,
   "id": "ff93acf9",
   "metadata": {},
   "outputs": [
    {
     "data": {
      "text/plain": [
       "' from langchain_google_genai import ChatGoogleGenerativeAI\\nllm = ChatGoogleGenerativeAI(model=\"gemini-1.5-pro-latest\") '"
      ]
     },
     "execution_count": 2,
     "metadata": {},
     "output_type": "execute_result"
    }
   ],
   "source": [
    "llm = OpenAI(\n",
    "    temperature=0,\n",
    "    model_name=\"gpt-3.5-turbo-instruct\"\n",
    ")\n",
    "\"\"\" from langchain_google_genai import ChatGoogleGenerativeAI\n",
    "llm = ChatGoogleGenerativeAI(model=\"gemini-1.5-pro-latest\") \"\"\""
   ]
  },
  {
   "cell_type": "code",
   "execution_count": 3,
   "id": "83dabb48",
   "metadata": {},
   "outputs": [],
   "source": [
    "from langchain.chains import LLMMathChain # Chain that interprets a prompt and executes python code to do math.\n",
    "from langchain.agents import Tool"
   ]
  },
  {
   "cell_type": "code",
   "execution_count": 4,
   "id": "40f27906",
   "metadata": {},
   "outputs": [],
   "source": [
    "# initialize the math tool\n",
    "\n",
    "llm_math = LLMMathChain.from_llm(llm=llm)\n",
    "\n",
    "math_tool = Tool(\n",
    "    name='Calculator',\n",
    "    func=llm_math.run,\n",
    "    description='Useful for when you need to answer questions about math.'\n",
    ")\n",
    "\n",
    "# when giving tools to LLM, we must pass as list of tools\n",
    "tools = [math_tool]  # is a list of possible Tools that your agent can use"
   ]
  },
  {
   "cell_type": "code",
   "execution_count": 5,
   "id": "7c918e49",
   "metadata": {},
   "outputs": [
    {
     "name": "stdout",
     "output_type": "stream",
     "text": [
      "Calculator --- Useful for when you need to answer questions about math.\n"
     ]
    }
   ],
   "source": [
    "print(tools[0].name, \"---\", tools[0].description)"
   ]
  },
  {
   "cell_type": "markdown",
   "id": "e0ceb3c1",
   "metadata": {},
   "source": [
    "## Now create an Agent\n",
    "#### Zero-shot ReAct\n",
    "The Zero-shot ReAct Agent is a language generation model that can create realistic contexts even without being trained on specific data. It can be used for various tasks such as generating creative text formats, language translation, and generating different types of creative content."
   ]
  },
  {
   "cell_type": "code",
   "execution_count": 6,
   "id": "7fcec1ac",
   "metadata": {},
   "outputs": [
    {
     "name": "stderr",
     "output_type": "stream",
     "text": [
      "/home/miller/.local/share/virtualenvs/langchain_open_rag-FDDFjH_q/lib/python3.10/site-packages/langchain_core/_api/deprecation.py:139: LangChainDeprecationWarning: The function `initialize_agent` was deprecated in LangChain 0.1.0 and will be removed in 0.3.0. Use Use new agent constructor methods like create_react_agent, create_json_agent, create_structured_chat_agent, etc. instead.\n",
      "  warn_deprecated(\n"
     ]
    }
   ],
   "source": [
    "from langchain.agents import initialize_agent\n",
    "\n",
    "zero_shot_agent = initialize_agent(\n",
    "    agent=\"chat-zero-shot-react-description\",\n",
    "    tools=tools,\n",
    "    llm=llm,\n",
    "    verbose=True,\n",
    "    max_iterations=10,\n",
    "    handle_parsing_errors=True\n",
    ")"
   ]
  },
  {
   "cell_type": "code",
   "execution_count": 9,
   "id": "5e0ff035",
   "metadata": {},
   "outputs": [
    {
     "name": "stdout",
     "output_type": "stream",
     "text": [
      "\n",
      "\n",
      "\u001b[1m> Entering new AgentExecutor chain...\u001b[0m\n",
      "\u001b[32;1m\u001b[1;3mCould not parse LLM output: Thought: To find the root of a number, we can use the calculator tool.\n",
      "Action:\n",
      "{\n",
      "  \"action\": \"Calculator\",\n",
      "  \"action_input\": \"sqrt(25)\"\n",
      "}\n",
      "\n",
      "\u001b[0m\n",
      "Observation: Invalid or incomplete response\n",
      "Thought:\u001b[32;1m\u001b[1;3mCould not parse LLM output:  I should specify the input in the correct format for the calculator tool.\n",
      "Action:\n",
      "{\n",
      "  \"action\": \"Calculator\",\n",
      "  \"action_input\": \"sqrt(25)\"\n",
      "}\n",
      "\n",
      "\u001b[0m\n",
      "Observation: Invalid or incomplete response\n",
      "Thought:\u001b[32;1m\u001b[1;3mCould not parse LLM output:  I should specify the input in the correct format for the calculator tool.\n",
      "Action:\n",
      "{\n",
      "  \"action\": \"Calculator\",\n",
      "  \"action_input\": \"5\"\n",
      "}\n",
      "\n",
      "\n",
      "\u001b[0m\n",
      "Observation: Invalid or incomplete response\n",
      "Thought:\u001b[32;1m\u001b[1;3mCould not parse LLM output: Could not parse LLM output:  I should specify the input in the correct format for the calculator tool.\n",
      "Action:\n",
      "{\n",
      "  \"action\": \"Calculator\",\n",
      "  \"action_input\": \"sqrt(25)\"\n",
      "}\n",
      "\n",
      "\n",
      "\u001b[0m\n",
      "Observation: Invalid or incomplete response\n",
      "Thought:\u001b[32;1m\u001b[1;3mCould not parse LLM output: Could not parse LLM output: I should specify the input in the correct format for the calculator tool.\n",
      "Action:\n",
      "{\n",
      "  \"action\": \"Calculator\",\n",
      "  \"action_input\": \"5\"\n",
      "}\n",
      "\n",
      "\n",
      "\n",
      "\u001b[0m\n",
      "Observation: Invalid or incomplete response\n",
      "Thought:\u001b[32;1m\u001b[1;3mCould not parse LLM output: Could not parse LLM output: Could not parse LLM output: I should specify the input in the correct format for the calculator tool.\n",
      "Action:\n",
      "{\n",
      "  \"action\": \"Calculator\",\n",
      "  \"action_input\": \"sqrt(25)\"\n",
      "}\n",
      "\n",
      "\n",
      "\n",
      "\u001b[0m\n",
      "Observation: Invalid or incomplete response\n",
      "Thought:\u001b[32;1m\u001b[1;3mCould not parse LLM output: Could not parse LLM output: Could not parse LLM output: Could not parse LLM output: I should specify the input in the correct format for the calculator tool.\n",
      "Action:\n",
      "{\n",
      "  \"action\": \"Calculator\",\n",
      "  \"action_input\": \"5\"\n",
      "}\n",
      "\n",
      "\n",
      "\n",
      "\u001b[0m\n",
      "Observation: Invalid or incomplete response\n",
      "Thought:\u001b[32;1m\u001b[1;3mCould not parse LLM output: Could not parse LLM output: Could not parse LLM output: Could not parse LLM output: Could not parse LLM output: Could not parse LLM output: I should specify the input in the correct format for the calculator tool.\n",
      "Action:\n",
      "{\n",
      "  \"action\": \"Calculator\",\n",
      "  \"action_input\": \"sqrt(25)\"\n",
      "}\n",
      "\n",
      "\n",
      "\n",
      "\u001b[0m\n",
      "Observation: Invalid or incomplete response\n",
      "Thought:\u001b[32;1m\u001b[1;3mCould not parse LLM output: Could not parse LLM output: Could not parse LLM output: Could not parse LLM output: Could not parse LLM output: Could not parse LLM output: Could not parse LLM output: I should specify the input in the correct format for the calculator tool.\n",
      "Action:\n",
      "{\n",
      "  \"action\": \"Calculator\",\n",
      "  \"action_input\": \"5\"\n",
      "}\n",
      "\n",
      "\n",
      "\n",
      "\n",
      "\u001b[0m\n",
      "Observation: Invalid or incomplete response\n",
      "Thought:\u001b[32;1m\u001b[1;3mCould not parse LLM output: Could not parse LLM output: Could not parse LLM output: Could not parse LLM output: Could not parse LLM output: Could not parse LLM output: Could not parse LLM output: Could not parse LLM output: Could not parse LLM output: I should specify the input in the correct format for the calculator tool.\n",
      "Action:\n",
      "{\n",
      "  \"action\": \"Calculator\",\n",
      "  \"action_input\": \"sqrt(25)\"\n",
      "}\n",
      "\n",
      "\n",
      "\n",
      "\u001b[0m\n",
      "Observation: Invalid or incomplete response\n",
      "Thought:\u001b[32;1m\u001b[1;3m\u001b[0m\n",
      "\n",
      "\u001b[1m> Finished chain.\u001b[0m\n"
     ]
    },
    {
     "data": {
      "text/plain": [
       "{'input': 'What is root over 25?',\n",
       " 'output': 'Agent stopped due to iteration limit or time limit.'}"
      ]
     },
     "execution_count": 9,
     "metadata": {},
     "output_type": "execute_result"
    }
   ],
   "source": [
    "zero_shot_agent(\"What is root over 25?\")"
   ]
  },
  {
   "cell_type": "code",
   "execution_count": 8,
   "id": "249d215b",
   "metadata": {},
   "outputs": [
    {
     "name": "stdout",
     "output_type": "stream",
     "text": [
      "\n",
      "\n",
      "\u001b[1m> Entering new AgentExecutor chain...\u001b[0m\n",
      "\u001b[32;1m\u001b[1;3mCould not parse LLM output: Thought: To find the total area of the house, we need to calculate the area of each room and then add them together.\n",
      "Action:\n",
      "{\n",
      "  \"action\": \"Calculator\",\n",
      "  \"action_input\": \"5 * 5 + 5 * 5 + 7 * 6 + 3 * 2\"\n",
      "}\n",
      "\n",
      "\u001b[0m\n",
      "Observation: Invalid or incomplete response\n",
      "Thought:\u001b[32;1m\u001b[1;3mCould not parse LLM output:  I need to specify the correct format for the json blob.\n",
      "Action:\n",
      "{\n",
      "  \"action\": \"Calculator\",\n",
      "  \"action_input\": \"5 * 5 + 5 * 5 + 7 * 6 + 3 * 2\"\n",
      "}\n",
      "\n",
      "\u001b[0m\n",
      "Observation: Invalid or incomplete response\n",
      "Thought:\u001b[32;1m\u001b[1;3mCould not parse LLM output:  I need to specify the correct format for the json blob.\n",
      "Action:\n",
      "{\n",
      "  \"action\": \"Calculator\",\n",
      "  \"action_input\": \"5 * 5 + 5 * 5 + 7 * 6 + 3 * 2\"\n",
      "}\n",
      "\n",
      "\n",
      "\u001b[0m\n",
      "Observation: Invalid or incomplete response\n",
      "Thought:\u001b[32;1m\u001b[1;3m I now know the final answer\n",
      "Final Answer: 89\u001b[0m\n",
      "\n",
      "\u001b[1m> Finished chain.\u001b[0m\n"
     ]
    },
    {
     "data": {
      "text/plain": [
       "{'input': '\\n        You are building a house. There are two bedrooms of 5 metres by 5 metres each and drawing cum open kitchen \\n        is 7 metres by 6 metres and balcony of 3 metres by 2 metres. \\n        What is the total area of your house?\\n        ',\n",
       " 'output': '89'}"
      ]
     },
     "execution_count": 8,
     "metadata": {},
     "output_type": "execute_result"
    }
   ],
   "source": [
    "problem = \"\"\"\n",
    "        You are building a house. There are two bedrooms of 5 metres by 5 metres each and drawing cum open kitchen \n",
    "        is 7 metres by 6 metres and balcony of 3 metres by 2 metres. \n",
    "        What is the total area of your house?\n",
    "        \"\"\"\n",
    "zero_shot_agent(problem)"
   ]
  },
  {
   "cell_type": "markdown",
   "id": "3f7a5e46",
   "metadata": {},
   "source": [
    "## Create a custom tool"
   ]
  },
  {
   "cell_type": "code",
   "execution_count": 10,
   "id": "1d3dbf54",
   "metadata": {},
   "outputs": [],
   "source": [
    "from langchain.tools import tool\n",
    "from langchain_core.prompts import PromptTemplate\n",
    "\n",
    "@tool(\"JSON_Response\", return_direct=True)\n",
    "def StructuredResponseTool(question: str):\n",
    "    \"\"\"\n",
    "    use this tool to send a prompt and get a JSON returned \n",
    "    with three fields - Topic, Question_Details and Detailed_Response\n",
    "    \"\"\"\n",
    "    json_prompt = PromptTemplate.from_template(\n",
    "    \"\"\"Return a JSON object with an `answer` key that answers the following question: {question}. \n",
    "        The JSON object will have three fields - Topic, Question_Details and Detailed_Response\"\"\"\n",
    "    )\n",
    "\n",
    "    model = OpenAI(model_name=\"gpt-3.5-turbo-instruct\", temperature=0.5)\n",
    "\n",
    "    json_chain = json_prompt | model\n",
    "    x = json_chain.invoke({\"question\": question})\n",
    "    return x"
   ]
  },
  {
   "cell_type": "code",
   "execution_count": 12,
   "id": "965a3838",
   "metadata": {},
   "outputs": [],
   "source": [
    "from langchain.agents import initialize_agent\n",
    "\n",
    "tools = [StructuredResponseTool]\n",
    "\n",
    "# initialize agent with tools\n",
    "zero_shot_agent = initialize_agent(\n",
    "    agent=\"zero-shot-react-description\",\n",
    "    tools=tools,\n",
    "    llm=llm,\n",
    "    verbose=True,\n",
    "    max_iterations=10\n",
    ")"
   ]
  },
  {
   "cell_type": "code",
   "execution_count": 14,
   "id": "ebe8b063",
   "metadata": {},
   "outputs": [
    {
     "name": "stdout",
     "output_type": "stream",
     "text": [
      "\n",
      "\n",
      "\u001b[1m> Entering new AgentExecutor chain...\u001b[0m\n",
      "\u001b[32;1m\u001b[1;3m I should use the JSON_Response tool to get the answer\n",
      "Action: JSON_Response\n",
      "Action Input: \"Which is the top football team in Argentina and how\"\u001b[0m\n",
      "Observation: \u001b[36;1m\u001b[1;3m\n",
      "\n",
      "{\n",
      "    \"Topic\": \"Football Teams in Argentina\",\n",
      "    \"Question_Details\": \"Which is the top football team in Argentina and how?\",\n",
      "    \"Detailed_Response\": \"The top football team in Argentina is Boca Juniors. They have won the most national titles in Argentina's Primera Division, with 34 titles. They also have a large fan base and a strong history of success in international competitions. Boca Juniors is known for their skilled players, strategic tactics, and passionate fan base, making them the top football team in Argentina.\" \n",
      "}\u001b[0m\n",
      "\u001b[32;1m\u001b[1;3m\u001b[0m\n",
      "\n",
      "\u001b[1m> Finished chain.\u001b[0m\n"
     ]
    },
    {
     "data": {
      "text/plain": [
       "{'Topic': 'Football Teams in Argentina',\n",
       " 'Question_Details': 'Which is the top football team in Argentina and how?',\n",
       " 'Detailed_Response': \"The top football team in Argentina is Boca Juniors. They have won the most national titles in Argentina's Primera Division, with 34 titles. They also have a large fan base and a strong history of success in international competitions. Boca Juniors is known for their skilled players, strategic tactics, and passionate fan base, making them the top football team in Argentina.\"}"
      ]
     },
     "execution_count": 14,
     "metadata": {},
     "output_type": "execute_result"
    }
   ],
   "source": [
    "import json\n",
    "\n",
    "x = zero_shot_agent.run(input=\"Which is the top football team in Argentina and how, the response should have three fields in the JSON - topic of the question, the question and the detailed response.\")\n",
    "\n",
    "y =json.loads(x)\n",
    "\n",
    "y"
   ]
  }
 ],
 "metadata": {
  "kernelspec": {
   "display_name": "Python 3 (ipykernel)",
   "language": "python",
   "name": "python3"
  },
  "language_info": {
   "codemirror_mode": {
    "name": "ipython",
    "version": 3
   },
   "file_extension": ".py",
   "mimetype": "text/x-python",
   "name": "python",
   "nbconvert_exporter": "python",
   "pygments_lexer": "ipython3",
   "version": "3.10.12"
  }
 },
 "nbformat": 4,
 "nbformat_minor": 5
}
